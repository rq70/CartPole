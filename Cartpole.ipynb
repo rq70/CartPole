{
  "nbformat": 4,
  "nbformat_minor": 0,
  "metadata": {
    "colab": {
      "provenance": []
    },
    "kernelspec": {
      "name": "python3",
      "display_name": "Python 3"
    },
    "language_info": {
      "name": "python"
    }
  },
  "cells": [
    {
      "cell_type": "code",
      "execution_count": 1,
      "metadata": {
        "id": "FQNN1mI13CtK"
      },
      "outputs": [],
      "source": [
        "def epsilon_greedy_policy(state, env, Q_table, exploration_rate):\n",
        "  \n",
        "    if (np.random.random() < exploration_rate):\n",
        "        # Generates numbers np.random.random() uniformly between 0-1\n",
        "        # This samples a random action given the environment\n",
        "        return env.action_space.sample()\n",
        "    else:\n",
        "        # Choose greedily the action which gives the highest expected reward\n",
        "        # given the current state\n",
        "        return np.argmax(Q_table[state])"
      ]
    },
    {
      "cell_type": "code",
      "source": [
        "def get_rate(e):\n",
        "    return max(0.1, min(1., 1. - np.log10((e + 1) / 25.)))"
      ],
      "metadata": {
        "id": "51d8KNnU3GKi"
      },
      "execution_count": 2,
      "outputs": []
    },
    {
      "cell_type": "code",
      "source": [
        "import matplotlib.pyplot as plt\n",
        "import numpy as np\n",
        "# Generate sample x points \n",
        "x = np.linspace(1, 1000, 1000)\n",
        "# Get the corresponding rates\n",
        "y = np.array([get_rate(i) for i in x])\n",
        "plt.plot(x, y)\n",
        "plt.xlabel(\"Episode\")\n",
        "plt.ylabel(\"Rate\")\n",
        "plt.show()\n"
      ],
      "metadata": {
        "colab": {
          "base_uri": "https://localhost:8080/",
          "height": 449
        },
        "id": "KK7NwhP33N7E",
        "outputId": "3d51b7ce-e530-4635-a68c-ae0da5bc4b99"
      },
      "execution_count": 3,
      "outputs": [
        {
          "output_type": "display_data",
          "data": {
            "text/plain": [
              "<Figure size 640x480 with 1 Axes>"
            ],
            "image/png": "[encoded data removed]"
          },
          "metadata": {}
        }
      ]
    },
    {
      "cell_type": "code",
      "source": [
        "def update_q(Q_table, state, action, reward, new_state, alpha, gamma):\n",
        "    Q_table[state][action] = Q_table[state][action] + alpha * (reward + gamma * np.max(Q_table[new_state]) - Q_table[state][action])\n",
        "    return Q_table"
      ],
      "metadata": {
        "id": "jM5lf_PS3TKI"
      },
      "execution_count": 4,
      "outputs": []
    },
    {
      "cell_type": "code",
      "source": [
        "# Install the library very simply through pip \n",
        "!pip install gym >/dev/null\n",
        "\n",
        "# Import the library\n",
        "import gym\n",
        "\n",
        "# Create a fresh environment with respect to our carpole game\n",
        "env = gym.make('CartPole-v0')\n",
        "\n",
        "# Define the number of episodes for which we want to run (just 1)\n",
        "for e in range(1):\n",
        "    # Reset the environment for a new episode, get the default state S_0\n",
        "    state = env.reset()\n",
        "    # Define the number of timesteps for which to run the episode by default (200)\n",
        "    for step in range(200):\n",
        "        # Sample a random action (A_{t})\n",
        "        action = env.action_space.sample()\n",
        "        # Get the new state (S_{t+1}), reward (R_{t+1}), end signal and additional information\n",
        "        new_state, reward, done, info = env.step(action)\n",
        "        # Update the state S_{t} = S_{t+1}\n",
        "        state = new_state\n",
        "        if done:\n",
        "            print(\"Episode finished after {} timesteps\".format(step+1))\n",
        "            break\n",
        "# Close the environment\n",
        "env.close()"
      ],
      "metadata": {
        "colab": {
          "base_uri": "https://localhost:8080/"
        },
        "id": "4zkaM8nR3YBW",
        "outputId": "b6b5475e-d72d-467e-a930-851281b8e255"
      },
      "execution_count": 5,
      "outputs": [
        {
          "output_type": "stream",
          "name": "stdout",
          "text": [
            "Episode finished after 19 timesteps\n"
          ]
        },
        {
          "output_type": "stream",
          "name": "stderr",
          "text": [
            "/usr/local/lib/python3.10/dist-packages/gym/envs/registration.py:593: UserWarning: \u001b[33mWARN: The environment CartPole-v0 is out of date. You should consider upgrading to version `v1`.\u001b[0m\n",
            "  logger.warn(\n",
            "/usr/local/lib/python3.10/dist-packages/gym/core.py:317: DeprecationWarning: \u001b[33mWARN: Initializing wrapper in old step API which returns one bool instead of two. It is recommended to set `new_step_api=True` to use new step API. This will be the default behaviour in future.\u001b[0m\n",
            "  deprecation(\n",
            "/usr/local/lib/python3.10/dist-packages/gym/wrappers/step_api_compatibility.py:39: DeprecationWarning: \u001b[33mWARN: Initializing environment in old step API which returns one bool instead of two. It is recommended to set `new_step_api=True` to use new step API. This will be the default behaviour in future.\u001b[0m\n",
            "  deprecation(\n"
          ]
        }
      ]
    },
    {
      "cell_type": "code",
      "source": [
        "# Update the package references repository\n",
        "!apt update -y >/dev/null\n",
        "# Install packages for visualisation\n",
        "!apt-get install xvfb python3-opengl ffmpeg -y >/dev/null\n",
        "!pip install pyvirtualdisplay imageio >/dev/null"
      ],
      "metadata": {
        "colab": {
          "base_uri": "https://localhost:8080/"
        },
        "id": "2gorXMyH3o8h",
        "outputId": "d5aa4ae2-ad97-4f54-89e5-457eae82fbd8"
      },
      "execution_count": 6,
      "outputs": [
        {
          "output_type": "stream",
          "name": "stdout",
          "text": [
            "\n",
            "WARNING: apt does not have a stable CLI interface. Use with caution in scripts.\n",
            "\n"
          ]
        }
      ]
    },
    {
      "cell_type": "code",
      "source": [
        "# Do all the necessary imports, based on the installations we just did\n",
        "import gym, math, imageio, os, time\n",
        "import numpy as np\n",
        "import matplotlib.pyplot as plt\n",
        "from pyvirtualdisplay import Display\n",
        "\n",
        "# Fix the random number seed\n",
        "np.random.seed(42)\n",
        "fake_display = False"
      ],
      "metadata": {
        "id": "W-tdqPvu3q-v"
      },
      "execution_count": 7,
      "outputs": []
    },
    {
      "cell_type": "code",
      "source": [
        "# Create a fake display which will help us to render the animations\n",
        "if fake_display is False:\n",
        "    display = Display(visible=0, size=(700, 450))\n",
        "    display.start()\n",
        "    is_ipython = 'inline' in plt.get_backend()\n",
        "    if is_ipython:\n",
        "        from IPython import display\n",
        "    plt.ion()\n",
        "    fake_display=True"
      ],
      "metadata": {
        "id": "2yf_r0Oo3-hD"
      },
      "execution_count": 8,
      "outputs": []
    },
    {
      "cell_type": "code",
      "source": [
        "def Q_learning(env, num_episodes):\n",
        "    # Discount factor gamma represents how much does the agent value future rewards as opposed to immediate rewards\n",
        "    gamma = 0.98\n",
        "\n",
        "    # (1, 1, 6, 12) represents the discretisation buckets\n",
        "    # Initialise the q-table as full of zeros at the start\n",
        "    Q_table = np.zeros((1, 1, 6, 12) + (env.action_space.n,))\n",
        "\n",
        "    # Create a list to store the accumulated reward per each episode\n",
        "    total_reward = []\n",
        "    for e in range(num_episodes):\n",
        "        # Reset the environment for a new episode, get the default state S_0\n",
        "        state = env.reset()\n",
        "        state = discretize_state(state, env)\n",
        "\n",
        "        # Adjust the alpha and the exploration rate, it is a coincidence they are the same\n",
        "        alpha = exploration_rate = get_rate(e)\n",
        "        \n",
        "        # Initialize the current episode reward to 0 \n",
        "        episode_reward = 0\n",
        "        done = False\n",
        "        while done is False:\n",
        "            # Choose the action A_{t} based on the policy\n",
        "            action = epsilon_greedy_policy(state, env, Q_table, exploration_rate)\n",
        "\n",
        "            # Get the new state (S_{t+1}), reward (R_{t+1}), end signal\n",
        "            new_state, reward, done, _ = env.step(action)\n",
        "            new_state = discretize_state(new_state, env)\n",
        "\n",
        "            # Update Q-table via update_q(Q_table, S_{t}, A_{t}, R_{t+1}, S_{t+1}, alpha, gamma) \n",
        "            Q_table = update_q(Q_table, state, action, reward, new_state, alpha, gamma)\n",
        "\n",
        "            # Update the state S_{t} = S_{t+1}\n",
        "            state = new_state\n",
        "            \n",
        "            # Accumulate the reward\n",
        "            episode_reward += reward\n",
        "        \n",
        "        total_reward.append(episode_reward)\n",
        "    print('Finished training!')\n",
        "    return Q_table, total_reward"
      ],
      "metadata": {
        "id": "TRU4onGP4GWY"
      },
      "execution_count": 9,
      "outputs": []
    },
    {
      "cell_type": "code",
      "source": [
        "def discretize_state(state, env, buckets=(1, 1, 6, 12)):\n",
        "    # The upper and the lower bounds for the discretization\n",
        "    upper_bounds = [env.observation_space.high[0], 0.5, env.observation_space.high[2], math.radians(50) / 1.]\n",
        "    lower_bounds = [env.observation_space.low[0], -0.5, env.observation_space.low[2], -math.radians(50) / 1.]\n",
        "\n",
        "    # state is the native state representations produced by env\n",
        "    ratios = [(state[i] + abs(lower_bounds[i])) / (upper_bounds[i] - lower_bounds[i]) for i in range(len(state))]\n",
        "    # state_ is discretized state representation used for Q-table later\n",
        "    state_ = [int(round((buckets[i] - 1) * ratios[i])) for i in range(len(state))]\n",
        "    state_ = [min(buckets[i] - 1, max(0, state_[i])) for i in range(len(state))]\n",
        "    return tuple(state_) "
      ],
      "metadata": {
        "id": "gwu0vBHu4IbI"
      },
      "execution_count": 10,
      "outputs": []
    },
    {
      "cell_type": "code",
      "source": [
        "# OpenAI Gym builds the environment for us inclusing all the rules, dynamics etc.\n",
        "env = gym.make('CartPole-v0')\n",
        "# How long do we want the agent to explore and learn\n",
        "num_episodes = 1000        \n",
        "\n",
        "# Let us use Q-learning to learn the game!\n",
        "Q_table, total_reward = Q_learning(env, num_episodes)"
      ],
      "metadata": {
        "colab": {
          "base_uri": "https://localhost:8080/"
        },
        "id": "IVZAMbI_4PtP",
        "outputId": "466465d6-7625-4909-f429-4695ead95693"
      },
      "execution_count": 11,
      "outputs": [
        {
          "output_type": "stream",
          "name": "stderr",
          "text": [
            "/usr/local/lib/python3.10/dist-packages/gym/envs/registration.py:593: UserWarning: \u001b[33mWARN: The environment CartPole-v0 is out of date. You should consider upgrading to version `v1`.\u001b[0m\n",
            "  logger.warn(\n",
            "/usr/local/lib/python3.10/dist-packages/gym/core.py:317: DeprecationWarning: \u001b[33mWARN: Initializing wrapper in old step API which returns one bool instead of two. It is recommended to set `new_step_api=True` to use new step API. This will be the default behaviour in future.\u001b[0m\n",
            "  deprecation(\n",
            "/usr/local/lib/python3.10/dist-packages/gym/wrappers/step_api_compatibility.py:39: DeprecationWarning: \u001b[33mWARN: Initializing environment in old step API which returns one bool instead of two. It is recommended to set `new_step_api=True` to use new step API. This will be the default behaviour in future.\u001b[0m\n",
            "  deprecation(\n"
          ]
        },
        {
          "output_type": "stream",
          "name": "stdout",
          "text": [
            "Finished training!\n"
          ]
        }
      ]
    },
    {
      "cell_type": "code",
      "source": [
        "plt.plot(range(num_episodes), total_reward)\n",
        "plt.xlabel('Episode')\n",
        "plt.ylabel('Training cumulative reward')\n",
        "plt.show()"
      ],
      "metadata": {
        "colab": {
          "base_uri": "https://localhost:8080/",
          "height": 449
        },
        "id": "u8_D_UBV4j-c",
        "outputId": "e73b61fd-82b9-4b29-920e-da03fec21f25"
      },
      "execution_count": 12,
      "outputs": [
        {
          "output_type": "display_data",
          "data": {
            "text/plain": [
              "<Figure size 640x480 with 1 Axes>"
            ],
            "image/png": "[encoded data removed]"
          },
          "metadata": {}
        }
      ]
    },
    {
      "cell_type": "code",
      "source": [
        "print(Q_table, Q_table.shape)"
      ],
      "metadata": {
        "colab": {
          "base_uri": "https://localhost:8080/"
        },
        "id": "tHXqxCnF4rk0",
        "outputId": "03e0d144-9307-4018-b440-744c96403ad8"
      },
      "execution_count": 13,
      "outputs": [
        {
          "output_type": "stream",
          "name": "stdout",
          "text": [
            "[[[[[ 0.          0.        ]\n",
            "    [ 0.          0.        ]\n",
            "    [ 0.          0.        ]\n",
            "    [ 0.          0.        ]\n",
            "    [ 0.          0.        ]\n",
            "    [ 0.          0.        ]\n",
            "    [ 0.          0.        ]\n",
            "    [ 0.          0.        ]\n",
            "    [ 0.          0.        ]\n",
            "    [ 0.          0.        ]\n",
            "    [ 0.          0.        ]\n",
            "    [ 0.          0.        ]]\n",
            "\n",
            "   [[27.06134379 30.30853597]\n",
            "    [17.75625383 28.94006622]\n",
            "    [ 9.77408919 29.39054817]\n",
            "    [14.74573383 27.15095068]\n",
            "    [ 1.41906357 23.3231239 ]\n",
            "    [ 0.72584215 24.2450257 ]\n",
            "    [22.12689133  0.        ]\n",
            "    [28.46838576 15.52225059]\n",
            "    [ 0.          0.        ]\n",
            "    [ 0.          0.        ]\n",
            "    [ 0.          0.        ]\n",
            "    [ 0.          0.        ]]\n",
            "\n",
            "   [[44.01743016 42.96153131]\n",
            "    [48.54404876 47.36878756]\n",
            "    [45.7709702  46.51153581]\n",
            "    [47.92879691 49.00010997]\n",
            "    [47.6658418  48.52087584]\n",
            "    [49.99922384 49.86728053]\n",
            "    [49.99167168 49.91940465]\n",
            "    [49.62060302 49.99618088]\n",
            "    [49.90265468 49.97442278]\n",
            "    [48.45487853 49.99988917]\n",
            "    [46.90746752 49.99999999]\n",
            "    [40.83175216 48.53542826]]\n",
            "\n",
            "   [[47.89587321 42.2207201 ]\n",
            "    [49.99999863 45.28815861]\n",
            "    [49.9095839  48.85241022]\n",
            "    [49.99949017 49.81614724]\n",
            "    [49.92320442 49.7133312 ]\n",
            "    [49.96222666 49.84677518]\n",
            "    [48.78439672 46.90364203]\n",
            "    [47.98114103 49.73008115]\n",
            "    [48.28652332 47.54213235]\n",
            "    [47.30384051 48.42495717]\n",
            "    [47.92244109 46.60598299]\n",
            "    [43.78875027 45.26908134]]\n",
            "\n",
            "   [[ 0.         28.16068021]\n",
            "    [ 0.          0.        ]\n",
            "    [ 0.67366414  1.        ]\n",
            "    [ 0.         33.61045279]\n",
            "    [ 0.         14.89394095]\n",
            "    [25.96447474  1.66019086]\n",
            "    [ 1.         15.86451298]\n",
            "    [24.55503548  5.96292991]\n",
            "    [29.31495376  3.26103434]\n",
            "    [31.16341533 14.96760284]\n",
            "    [31.10924384 16.9078186 ]\n",
            "    [32.16252358 29.33873862]]\n",
            "\n",
            "   [[ 0.          0.        ]\n",
            "    [ 0.          0.        ]\n",
            "    [ 0.          0.        ]\n",
            "    [ 0.          0.        ]\n",
            "    [ 0.          0.        ]\n",
            "    [ 0.          0.        ]\n",
            "    [ 0.          0.        ]\n",
            "    [ 0.          0.        ]\n",
            "    [ 0.          0.        ]\n",
            "    [ 0.          0.        ]\n",
            "    [ 0.          0.        ]\n",
            "    [ 0.          0.        ]]]]] (1, 1, 6, 12, 2)\n"
          ]
        }
      ]
    },
    {
      "cell_type": "code",
      "source": [
        "# Initialise the reward\n",
        "episode_reward = 0\n",
        "\n",
        "# Count how many times the agent went right and how many times it went left\n",
        "right = 0\n",
        "left = 0\n",
        "\n",
        "# Initialise empty buffer for the images that will be stiched to a gif\n",
        "# Create a temp directory\n",
        "filenames = []\n",
        "try:\n",
        "    os.mkdir(\"./temp\")\n",
        "except:\n",
        "    pass\n",
        "\n",
        "# Test the trained agent in a completely frest start\n",
        "state = env.reset()\n",
        "state = discretize_state(state, env)\n",
        "\n",
        "# Run for maximum of 200 steps which is the limit of the game\n",
        "for step in range(200):\n",
        "    # Plot the previous state and save it as an image that \n",
        "    # will be later patched together sa a .gif\n",
        "    img = plt.imshow(env.render(mode='rgb_array'))\n",
        "    plt.title(\"Step: {}\".format(step))\n",
        "    plt.axis('off')\n",
        "    plt.savefig(\"./temp/{}.png\".format(step))\n",
        "    plt.close()\n",
        "    filenames.append(\"./temp/{}.png\".format(step))\n",
        "    \n",
        "    # Here we set the exploration rate to 0.0 as we want to avoid any random exploration\n",
        "    action = epsilon_greedy_policy(state, env, Q_table, exploration_rate=0.0)\n",
        "    right+=1 if action == 1 else 0\n",
        "    left+=1 if action == 0 else 0\n",
        "    new_state, reward, done, _ = env.step(action)\n",
        "    new_state = discretize_state(new_state, env)\n",
        "    state = new_state\n",
        "    episode_reward += reward\n",
        "\n",
        "    # At the end of the episode print the total reward\n",
        "    if done:\n",
        "        print(f'Test episode finished at step {step+1} with a total reward of: {episode_reward}')\n",
        "        print(f'We moved {right} times right and {left} times left')\n",
        "        break\n",
        "        \n",
        "# Stitch the images together to produce a .gif\n",
        "with imageio.get_writer('test.gif', mode='I') as writer:\n",
        "    for filename in filenames:\n",
        "        image = imageio.imread(filename)\n",
        "        writer.append_data(image)\n",
        "\n",
        "# Cleanup the images for the next run\n",
        "for f in filenames:\n",
        "    os.remove(f)\n",
        "\n",
        "# Close the environment\n",
        "env.close()"
      ],
      "metadata": {
        "colab": {
          "base_uri": "https://localhost:8080/"
        },
        "id": "yEpf8JsI4t-u",
        "outputId": "4e5501e7-889d-4201-a9da-dac107e54e98"
      },
      "execution_count": 14,
      "outputs": [
        {
          "output_type": "stream",
          "name": "stderr",
          "text": [
            "/usr/local/lib/python3.10/dist-packages/gym/core.py:43: DeprecationWarning: \u001b[33mWARN: The argument mode in render method is deprecated; use render_mode during environment initialization instead.\n",
            "See here for more information: https://www.gymlibrary.ml/content/api/\u001b[0m\n",
            "  deprecation(\n"
          ]
        },
        {
          "output_type": "stream",
          "name": "stdout",
          "text": [
            "Test episode finished at step 29 with a total reward of: 29.0\n",
            "We moved 13 times right and 16 times left\n"
          ]
        },
        {
          "output_type": "stream",
          "name": "stderr",
          "text": [
            "<ipython-input-14-7b7238caabd2>:49: DeprecationWarning: Starting with ImageIO v3 the behavior of this function will switch to that of iio.v3.imread. To keep the current behavior (and make this warning disappear) use `import imageio.v2 as imageio` or call `imageio.v2.imread` directly.\n",
            "  image = imageio.imread(filename)\n"
          ]
        }
      ]
    }
  ]
}